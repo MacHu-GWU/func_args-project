{
 "cells": [
  {
   "cell_type": "markdown",
   "source": [
    "# Example\n",
    "\n",
    "Suppose there's a Python function from a third party library, the API design is ugly, no type hint, no explicit key word argument."
   ],
   "metadata": {
    "collapsed": false,
    "pycharm": {
     "name": "#%% md\n"
    }
   },
   "execution_count": 0
  },
  {
   "cell_type": "markdown",
   "source": [],
   "metadata": {
    "collapsed": false,
    "pycharm": {
     "name": "#%% md\n"
    }
   }
  },
  {
   "cell_type": "code",
   "execution_count": 2,
   "outputs": [],
   "source": [
    "def third_party_function(**kwargs):\n",
    "    if \"Arg1\" in kwargs: # arg1 is str\n",
    "        if kwargs[\"Arg1\"] is None:\n",
    "            kwargs.pop(\"Arg1\")\n",
    "    if \"Arg2\" in kwargs: # arg1 is int\n",
    "        if kwargs[\"Arg2\"] is None:\n",
    "            kwargs.pop(\"Arg2\")\n",
    "    print(f\"final kwargs is: {kwargs}\")"
   ],
   "metadata": {
    "collapsed": false,
    "pycharm": {
     "name": "#%%\n"
    }
   }
  },
  {
   "cell_type": "markdown",
   "source": [
    "This is how can you improve the API"
   ],
   "metadata": {
    "collapsed": false,
    "pycharm": {
     "name": "#%% md\n"
    }
   }
  },
  {
   "cell_type": "code",
   "execution_count": 4,
   "outputs": [],
   "source": [
    "from func_args import NOTHING, resolve_kwargs\n",
    "\n",
    "_better_function_kwargs_mapper = dict(\n",
    "    arg1=\"Arg1\",\n",
    "    arg2=\"Arg2\",\n",
    ")\n",
    "\n",
    "def better_function(\n",
    "    arg1: str = NOTHING,\n",
    "    arg2: int = NOTHING,\n",
    "):\n",
    "    return third_party_function(\n",
    "        **resolve_kwargs(\n",
    "            _mapper=_better_function_kwargs_mapper,\n",
    "            arg1=arg1,\n",
    "            arg2=arg2,\n",
    "        )\n",
    "    )"
   ],
   "metadata": {
    "collapsed": false,
    "pycharm": {
     "name": "#%%\n"
    }
   }
  },
  {
   "cell_type": "markdown",
   "source": [
    "Test your new function"
   ],
   "metadata": {
    "collapsed": false,
    "pycharm": {
     "name": "#%% md\n"
    }
   }
  },
  {
   "cell_type": "code",
   "execution_count": 5,
   "outputs": [
    {
     "name": "stdout",
     "output_type": "stream",
     "text": [
      "final kwargs is: {'Arg1': 'this is arg1', 'Arg2': 2}\n"
     ]
    }
   ],
   "source": [
    "better_function(arg1=\"this is arg1\", arg2=2)"
   ],
   "metadata": {
    "collapsed": false,
    "pycharm": {
     "name": "#%%\n"
    }
   }
  },
  {
   "cell_type": "code",
   "execution_count": 7,
   "outputs": [
    {
     "name": "stdout",
     "output_type": "stream",
     "text": [
      "final kwargs is: {'Arg1': 'this is arg1'}\n"
     ]
    }
   ],
   "source": [
    "better_function(arg1=\"this is arg1\")"
   ],
   "metadata": {
    "collapsed": false,
    "pycharm": {
     "name": "#%%\n"
    }
   }
  },
  {
   "cell_type": "code",
   "execution_count": 8,
   "outputs": [
    {
     "name": "stdout",
     "output_type": "stream",
     "text": [
      "final kwargs is: {'Arg2': 2}\n"
     ]
    }
   ],
   "source": [
    "better_function(arg2=2)"
   ],
   "metadata": {
    "collapsed": false,
    "pycharm": {
     "name": "#%%\n"
    }
   }
  },
  {
   "cell_type": "code",
   "execution_count": null,
   "outputs": [],
   "source": [],
   "metadata": {
    "collapsed": false,
    "pycharm": {
     "name": "#%%\n"
    }
   }
  }
 ],
 "metadata": {
  "kernelspec": {
   "display_name": "Python 3",
   "language": "python",
   "name": "python3"
  },
  "language_info": {
   "codemirror_mode": {
    "name": "ipython",
    "version": 2
   },
   "file_extension": ".py",
   "mimetype": "text/x-python",
   "name": "python",
   "nbconvert_exporter": "python",
   "pygments_lexer": "ipython2",
   "version": "2.7.6"
  }
 },
 "nbformat": 4,
 "nbformat_minor": 0
}